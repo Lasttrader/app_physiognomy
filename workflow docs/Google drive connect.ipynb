{
 "cells": [
  {
   "cell_type": "code",
   "execution_count": 3,
   "metadata": {},
   "outputs": [],
   "source": [
    "from google.oauth2 import service_account\n",
    "from googleapiclient.http import MediaIoBaseDownload, MediaFileUpload\n",
    "from googleapiclient.discovery import build\n",
    "import pprint\n",
    "import io\n",
    "\n",
    "pp = pprint.PrettyPrinter(indent=4)"
   ]
  },
  {
   "cell_type": "code",
   "execution_count": 4,
   "metadata": {},
   "outputs": [],
   "source": [
    "SCOPES = ['https://www.googleapis.com/auth/drive']\n",
    "SERVICE_ACCOUNT_FILE = 'clcme-247016-42b4314e2231.json'"
   ]
  },
  {
   "cell_type": "code",
   "execution_count": 5,
   "metadata": {},
   "outputs": [],
   "source": [
    "credentials = service_account.Credentials.from_service_account_file(SERVICE_ACCOUNT_FILE, scopes = SCOPES)\n",
    "service = build('drive', 'v3', credentials = credentials)"
   ]
  },
  {
   "cell_type": "code",
   "execution_count": 6,
   "metadata": {},
   "outputs": [],
   "source": [
    "results = service.files().list(pageSize=10, fields = 'nextPageToken, files(id,name,mimeType)').execute()"
   ]
  },
  {
   "cell_type": "code",
   "execution_count": 7,
   "metadata": {},
   "outputs": [
    {
     "name": "stdout",
     "output_type": "stream",
     "text": [
      "{   'files': [   {   'id': '0Bwv9PjfOhfbAc3RhcnRlcl9maWxl',\n",
      "                     'mimeType': 'application/pdf',\n",
      "                     'name': 'Getting started'}]}\n"
     ]
    }
   ],
   "source": [
    "pp.pprint(results)"
   ]
  },
  {
   "cell_type": "code",
   "execution_count": 9,
   "metadata": {},
   "outputs": [
    {
     "name": "stdout",
     "output_type": "stream",
     "text": [
      "1\n"
     ]
    }
   ],
   "source": [
    "print(len(results.get('files')))"
   ]
  },
  {
   "cell_type": "code",
   "execution_count": 16,
   "metadata": {},
   "outputs": [
    {
     "name": "stdout",
     "output_type": "stream",
     "text": [
      "[   {   'createdTime': '2019-12-02T12:59:38.399Z',\n",
      "        'id': '1DfUNNL_NrFllS6YPoHQGSSe7NOi29uZs',\n",
      "        'mimeType': 'application/vnd.google.colaboratory',\n",
      "        'name': '00_Diplom_Sokolov_physiognomic.ipynb',\n",
      "        'parents': ['1aT9qJCc0NmGFrBXeINwzOMovBFYN9gmb']},\n",
      "    {   'createdTime': '2020-03-12T17:59:12.504Z',\n",
      "        'id': '1akP3BfgInxOpV1bwTv-FtWbPP5rtSY-B',\n",
      "        'mimeType': 'application/vnd.openxmlformats-officedocument.spreadsheetml.sheet',\n",
      "        'name': '05_12_2019_Fiziognomika.xlsx',\n",
      "        'parents': ['1aT9qJCc0NmGFrBXeINwzOMovBFYN9gmb']},\n",
      "    {   'createdTime': '2020-03-12T16:35:23.219Z',\n",
      "        'id': '1wNAuGHwtSWX93h2VldBupo1S5rm25k_T',\n",
      "        'mimeType': 'application/vnd.google-apps.folder',\n",
      "        'name': 'facenet_dataset',\n",
      "        'parents': ['1aT9qJCc0NmGFrBXeINwzOMovBFYN9gmb']},\n",
      "    {   'createdTime': '2020-03-12T06:50:51.242Z',\n",
      "        'id': '1exLilo28BJTDPxYfGclPpEVhFILmpxiM',\n",
      "        'mimeType': 'image/jpeg',\n",
      "        'name': 'IoOnZUNimos.jpg',\n",
      "        'parents': ['1aT9qJCc0NmGFrBXeINwzOMovBFYN9gmb']},\n",
      "    {   'createdTime': '2020-02-29T11:06:44.572Z',\n",
      "        'id': '1JIz5MDf6PQNaLTk6_4TPT0b6m7fqyVwE',\n",
      "        'mimeType': 'application/vnd.google-apps.folder',\n",
      "        'name': 'app',\n",
      "        'parents': ['1aT9qJCc0NmGFrBXeINwzOMovBFYN9gmb']},\n",
      "    {   'createdTime': '2019-12-05T11:18:53.248Z',\n",
      "        'id': '1DG1AhuvA-Ph9svAdlUBG_N33VCCTY3LT',\n",
      "        'mimeType': 'application/vnd.google.colaboratory',\n",
      "        'name': 'Copy of Домашка_3_UltraPRO',\n",
      "        'parents': ['1aT9qJCc0NmGFrBXeINwzOMovBFYN9gmb']},\n",
      "    {   'createdTime': '2019-12-17T13:54:58.301Z',\n",
      "        'id': '1K_ANbtfJ0YNhmdJ1io7DjSgcxT5hMY2u',\n",
      "        'mimeType': 'application/vnd.google-apps.folder',\n",
      "        'name': 'diploma_pic',\n",
      "        'parents': ['1aT9qJCc0NmGFrBXeINwzOMovBFYN9gmb']},\n",
      "    {   'createdTime': '2019-08-11T17:51:15.552Z',\n",
      "        'id': '1M2nKxXT17ad-dmZURGqfnzwWlOq7CESy',\n",
      "        'mimeType': 'application/vnd.google-apps.folder',\n",
      "        'name': 'CLBA',\n",
      "        'parents': ['1aT9qJCc0NmGFrBXeINwzOMovBFYN9gmb']},\n",
      "    {   'createdTime': '2019-09-04T08:20:36.326Z',\n",
      "        'id': '1wSy4TVjSvtXeRQ6Zr8W98YbSuZXrZrgY',\n",
      "        'mimeType': 'application/vnd.google-apps.folder',\n",
      "        'name': '100k_models',\n",
      "        'parents': ['1aT9qJCc0NmGFrBXeINwzOMovBFYN9gmb']},\n",
      "    {   'createdTime': '2018-01-21T03:43:58.990Z',\n",
      "        'id': '1pwQ3H4aJ8a6yyJHZkTwtjcL4wYWQb7bn',\n",
      "        'mimeType': 'application/vnd.google-apps.folder',\n",
      "        'name': 'keras-facenet',\n",
      "        'parents': ['1aT9qJCc0NmGFrBXeINwzOMovBFYN9gmb']}]\n"
     ]
    }
   ],
   "source": [
    "results = service.files().list(pageSize=10, fields = 'nextPageToken, files(id,name,mimeType,parents,createdTime)', q = \"'1aT9qJCc0NmGFrBXeINwzOMovBFYN9gmb' in parents\").execute()\n",
    "pp.pprint(results['files'])"
   ]
  },
  {
   "cell_type": "code",
   "execution_count": null,
   "metadata": {},
   "outputs": [],
   "source": []
  }
 ],
 "metadata": {
  "kernelspec": {
   "display_name": "Python 3",
   "language": "python",
   "name": "python3"
  },
  "language_info": {
   "codemirror_mode": {
    "name": "ipython",
    "version": 3
   },
   "file_extension": ".py",
   "mimetype": "text/x-python",
   "name": "python",
   "nbconvert_exporter": "python",
   "pygments_lexer": "ipython3",
   "version": "3.7.6"
  }
 },
 "nbformat": 4,
 "nbformat_minor": 4
}
